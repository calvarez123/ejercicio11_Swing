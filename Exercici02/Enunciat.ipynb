{
 "cells": [
  {
   "cell_type": "markdown",
   "metadata": {},
   "source": [
    "<div style=\"display: flex; width: 100%;\">\n",
    "    <div style=\"flex: 1; padding: 0px;\">\n",
    "        <p>© Albert Palacios Jiménez, 2023</p>\n",
    "    </div>\n",
    "    <div style=\"flex: 1; padding: 0px; text-align: right;\">\n",
    "        <img src=\"../../assets/ieti.png\" height=\"32\" alt=\"Logo de IETI\" style=\"max-height: 32px;\">\n",
    "    </div>\n",
    "</div>\n",
    "<hr/>"
   ]
  },
  {
   "cell_type": "markdown",
   "metadata": {},
   "source": [
    "### Exercici 2\n",
    "\n",
    "Fent servir SWING i el model MVC, fes una calculadora com la imatge.\n",
    "\n",
    "* El menú 'Arxiu' ha de tenir la opció 'Sortir'\n",
    "* El menú 'Operacions' ha de tenir les opcions 'Netejar' (equival a C) i 'Igual'\n",
    "\n",
    "**Òbivament ha de funcionar!**\n",
    "\n",
    "Cal fer una 'View.java' i un 'Controller.java'\n",
    "\n",
    "* A la view, la organització dels botons s'ha de fer amb una GridLayout\n",
    "\n",
    "* Al controlador s'obté la comanda a fer servir a partir del text de cada botó així:\n",
    "\n",
    "```java\n",
    "    public void controllerButtonAction(ActionEvent e) {\n",
    "        String command = e.getActionCommand(); // Això retorna el text del botó\n",
    "        runCommand(command);\n",
    "    }\n",
    "```\n",
    "\n",
    "El funcionament és el següent:\n",
    "\n",
    "- La calcula té un valor, una operació i un resultat.\n",
    "\n",
    "- Primer s'emplena el primer valor, després s'escull la operació i finalment s'opera amb el segon valor. \n",
    "\n",
    "- Aleshores es pot tornar a escollir una operació o el simbol = per obtenir el resultat.\n",
    "\n",
    "- Si s'apreta C (o el menú Netejar), es reinica el procés anterior."
   ]
  },
  {
   "cell_type": "markdown",
   "metadata": {},
   "source": [
    "<center><img src=\"./captura.png\" height=\"250\" alt=\"Calculadora\" style=\"max-height: 250px;\"></center>"
   ]
  }
 ],
 "metadata": {
  "language_info": {
   "name": "python"
  }
 },
 "nbformat": 4,
 "nbformat_minor": 2
}
