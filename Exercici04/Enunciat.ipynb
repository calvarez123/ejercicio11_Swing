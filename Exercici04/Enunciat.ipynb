{
 "cells": [
  {
   "cell_type": "markdown",
   "metadata": {},
   "source": [
    "<div style=\"display: flex; width: 100%;\">\n",
    "    <div style=\"flex: 1; padding: 0px;\">\n",
    "        <p>© Albert Palacios Jiménez, 2023</p>\n",
    "    </div>\n",
    "    <div style=\"flex: 1; padding: 0px; text-align: right;\">\n",
    "        <img src=\"../../assets/ieti.png\" height=\"32\" alt=\"Logo de IETI\" style=\"max-height: 32px;\">\n",
    "    </div>\n",
    "</div>\n",
    "<hr/>"
   ]
  },
  {
   "cell_type": "markdown",
   "metadata": {},
   "source": [
    "### Exercici 4\n",
    "\n",
    "Fent servir SWING bàsic i el model MVC, fes una aplicació per llistar i mostrar receptes d'una base de dades SQLite:\n",
    "\n",
    "* La primera vista 'ViewList' mostrarà un \"Carregant ...\"  mentre obté la informació de la base de dades (ha de trigar almenys 1,5 segons). I després mostrarà la llista de receptes, on les favorites han de tenir un '♥'\n",
    "\n",
    "* La segona vista 'ViewItem' mostrarà la informació de la recepta en un *JEditorPane* configurat per mostrar contingut HTML.\n",
    "\n",
    "Cal que facis servir dos models i un sol DAO: 'ReceptaModel', 'IngredientModel', 'ReceptaDAO'"
   ]
  },
  {
   "cell_type": "markdown",
   "metadata": {},
   "source": [
    "<center><img src=\"./captura.gif\" height=\"250\" alt=\"Calculadora\" style=\"max-height: 250px;\"></center>"
   ]
  }
 ],
 "metadata": {
  "language_info": {
   "name": "python"
  }
 },
 "nbformat": 4,
 "nbformat_minor": 2
}
