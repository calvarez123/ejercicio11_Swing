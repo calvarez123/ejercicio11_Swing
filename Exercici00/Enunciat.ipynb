{
 "cells": [
  {
   "cell_type": "markdown",
   "metadata": {},
   "source": [
    "<div style=\"display: flex; width: 100%;\">\n",
    "    <div style=\"flex: 1; padding: 0px;\">\n",
    "        <p>© Albert Palacios Jiménez, 2023</p>\n",
    "    </div>\n",
    "    <div style=\"flex: 1; padding: 0px; text-align: right;\">\n",
    "        <img src=\"../../assets/ieti.png\" height=\"32\" alt=\"Logo de IETI\" style=\"max-height: 32px;\">\n",
    "    </div>\n",
    "</div>\n",
    "<hr/>"
   ]
  },
  {
   "cell_type": "markdown",
   "metadata": {},
   "source": [
    "### Exercici 0\n",
    "\n",
    "Fent servir SWING i el model MVC, fes una panell de configuració com el que es mostra a la imatge.\n",
    "\n",
    "* Quan es modifica una configuració ha d'apereixer en temps real al text infomatiu\n",
    "\n",
    "* Quan s'apreta el botó 'Reset' s'han de recuperar les configuracions inicials: Opció 0, 50%, Text buit\n"
   ]
  },
  {
   "cell_type": "markdown",
   "metadata": {},
   "source": [
    "<center><img src=\"./captura.gif\" height=\"250\" alt=\"Calculadora\" style=\"max-height: 250px;\"></center>"
   ]
  }
 ],
 "metadata": {
  "language_info": {
   "name": "python"
  }
 },
 "nbformat": 4,
 "nbformat_minor": 2
}
