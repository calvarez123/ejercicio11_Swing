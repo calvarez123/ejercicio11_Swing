{
 "cells": [
  {
   "cell_type": "markdown",
   "metadata": {},
   "source": [
    "<div style=\"display: flex; width: 100%;\">\n",
    "    <div style=\"flex: 1; padding: 0px;\">\n",
    "        <p>© Albert Palacios Jiménez, 2023</p>\n",
    "    </div>\n",
    "    <div style=\"flex: 1; padding: 0px; text-align: right;\">\n",
    "        <img src=\"../../assets/ieti.png\" height=\"32\" alt=\"Logo de IETI\" style=\"max-height: 32px;\">\n",
    "    </div>\n",
    "</div>\n",
    "<hr/>"
   ]
  },
  {
   "cell_type": "markdown",
   "metadata": {},
   "source": [
    "### Exercici 3\n",
    "\n",
    "Fent servir SWING bàsic i el model MVC, fes tres vistes:\n",
    "\n",
    "* La primera vista 'ViewForm' és un formulari amb els camps 'Name', 'Phone Number', 'Age' i 'Email' amb un botó 'Send'\n",
    "\n",
    "* La segona vista 'ViewLoading' és una barra de progrés que ha de trigar 2.5 segons a completar-se, i actualitzar-se cada 150 mil·lisegons\n",
    "\n",
    "* La Tercera vista 'ViewInfo' és una JTextArea amb la informació recollida del formulari anterior.\n",
    "\n",
    "El canvi de vistes s'ha de fer amb una 'CardLayout', i l'actualització de la barra de progrés amb una combinació de *Timer* i *ActionListener*"
   ]
  },
  {
   "cell_type": "markdown",
   "metadata": {},
   "source": [
    "<center><img src=\"./captura.gif\" height=\"250\" alt=\"Calculadora\" style=\"max-height: 250px;\"></center>"
   ]
  }
 ],
 "metadata": {
  "language_info": {
   "name": "python"
  }
 },
 "nbformat": 4,
 "nbformat_minor": 2
}
