{
 "cells": [
  {
   "cell_type": "markdown",
   "metadata": {},
   "source": [
    "<div style=\"display: flex; width: 100%;\">\n",
    "    <div style=\"flex: 1; padding: 0px;\">\n",
    "        <p>© Albert Palacios Jiménez, 2023</p>\n",
    "    </div>\n",
    "    <div style=\"flex: 1; padding: 0px; text-align: right;\">\n",
    "        <img src=\"../../assets/ieti.png\" height=\"32\" alt=\"Logo de IETI\" style=\"max-height: 32px;\">\n",
    "    </div>\n",
    "</div>\n",
    "<hr/>"
   ]
  },
  {
   "cell_type": "markdown",
   "metadata": {},
   "source": [
    "### Exercici 1\n",
    "\n",
    "Fent servir SWING i el model MVC, fes una aplicació per gestionar una llista de tasques com la de la imatge.\n",
    "\n",
    "* Quan s'apreta el boto 'Afegeix' el text escrit s'afegeix a la llista\n",
    "\n",
    "* Quan s'apreta return al camp de text, també s'afegeix a la llista\n",
    "\n",
    "* L'element seleccionat de la llista s'ha de poder esborrar\n",
    "\n",
    "* Organitza la vista amb un layout tipus 'BorderLayout' on:\n",
    "\n",
    "* S'hi hi ha una llista llarga ha d'apareixer un scroll, amb [JScrollPane](https://docs.oracle.com/javase/8/docs/api/javax/swing/JScrollPane.html)\n",
    "\n",
    "Aleshores, pel què fa al layout:\n",
    "\n",
    "- El formulari d'entrada i el botó 'Afegeix' estàn al 'NORTH'\n",
    "- La llista de tasques està al 'CENTER'\n",
    "- El botó 'Elimina' està al 'SOUTH'\n",
    "\n",
    "Per fer la llista et caldrà fer servir els components [JList](https://docs.oracle.com/javase/8/docs/api/javax/swing/JList.html). Cal que defineixis el model com a atribut del 'Controller' i que sigui del tipus [DefaultListModel](https://docs.oracle.com/javase/8/docs/api/javax/swing/DefaultListModel.html) així: 'DefaultListModel<String> model'. *(Veuràs que fer canvis al model, actualitza automàticament el component perquè queden enllaçats.)*\n",
    "\n",
    "Mira la documentació als enllaços anteriors."
   ]
  },
  {
   "cell_type": "markdown",
   "metadata": {},
   "source": [
    "<center><img src=\"./captura.gif\" height=\"250\" alt=\"Calculadora\" style=\"max-height: 250px;\"></center>"
   ]
  }
 ],
 "metadata": {
  "language_info": {
   "name": "python"
  }
 },
 "nbformat": 4,
 "nbformat_minor": 2
}
